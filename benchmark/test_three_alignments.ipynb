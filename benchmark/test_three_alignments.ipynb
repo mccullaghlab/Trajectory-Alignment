{
 "cells": [
  {
   "cell_type": "code",
   "execution_count": 1,
   "metadata": {},
   "outputs": [],
   "source": [
    "import numpy as np\n",
    "import MDAnalysis as md\n",
    "import traj_tools"
   ]
  },
  {
   "cell_type": "code",
   "execution_count": 2,
   "metadata": {},
   "outputs": [
    {
     "name": "stdout",
     "output_type": "stream",
     "text": [
      "Number of atoms in molecule: 12\n",
      "Number of frames in trajectory: 5000\n"
     ]
    }
   ],
   "source": [
    "# load trajectory data\n",
    "topFile = \"beta_sheet.xyz\"\n",
    "trajFile = \"partially_unfolded_beta_sheet_v01.out.dcd\"\n",
    "coord = md.Universe(topFile,trajFile)\n",
    "print(\"Number of atoms in molecule:\", coord.atoms.n_atoms)\n",
    "print(\"Number of frames in trajectory:\", coord.trajectory.n_frames)"
   ]
  },
  {
   "cell_type": "code",
   "execution_count": 3,
   "metadata": {},
   "outputs": [],
   "source": [
    "# create array of trajectory position data and populate it\n",
    "trajPositions = np.empty((coord.trajectory.n_frames,coord.atoms.n_atoms,3),dtype=np.float64)\n",
    "for ts in coord.trajectory:\n",
    "    trajPositions[ts.frame] = coord.atoms.positions"
   ]
  },
  {
   "cell_type": "code",
   "execution_count": 6,
   "metadata": {},
   "outputs": [
    {
     "name": "stderr",
     "output_type": "stream",
     "text": [
      "/Users/mmccull/opt/anaconda3/lib/python3.8/site-packages/MDAnalysis/coordinates/PDB.py:1026: UserWarning: Found no information for attr: 'altLocs' Using default value of ' '\n",
      "  warnings.warn(\"Found no information for attr: '{}'\"\n",
      "/Users/mmccull/opt/anaconda3/lib/python3.8/site-packages/MDAnalysis/coordinates/PDB.py:1026: UserWarning: Found no information for attr: 'resnames' Using default value of 'UNK'\n",
      "  warnings.warn(\"Found no information for attr: '{}'\"\n",
      "/Users/mmccull/opt/anaconda3/lib/python3.8/site-packages/MDAnalysis/coordinates/PDB.py:1026: UserWarning: Found no information for attr: 'icodes' Using default value of ' '\n",
      "  warnings.warn(\"Found no information for attr: '{}'\"\n",
      "/Users/mmccull/opt/anaconda3/lib/python3.8/site-packages/MDAnalysis/coordinates/PDB.py:1026: UserWarning: Found no information for attr: 'occupancies' Using default value of '1.0'\n",
      "  warnings.warn(\"Found no information for attr: '{}'\"\n",
      "/Users/mmccull/opt/anaconda3/lib/python3.8/site-packages/MDAnalysis/coordinates/PDB.py:1026: UserWarning: Found no information for attr: 'tempfactors' Using default value of '0.0'\n",
      "  warnings.warn(\"Found no information for attr: '{}'\"\n"
     ]
    }
   ],
   "source": [
    "# uniform align and print trajectory\n",
    "uniformAvg, uniformAlignedPos = traj_tools.traj_iterative_average(trajPositions)\n",
    "coord.atoms.positions = uniformAvg\n",
    "coord.atoms.write(\"uniform_avg.pdb\")\n",
    "with md.Writer(\"uniform_aligned.dcd\", coord.atoms.n_atoms) as W:\n",
    "    for ts in coord.trajectory:\n",
    "        coord.atoms.positions = uniformAlignedPos[ts.frame]\n",
    "        W.write(coord.atoms)"
   ]
  },
  {
   "cell_type": "code",
   "execution_count": 4,
   "metadata": {},
   "outputs": [
    {
     "name": "stdout",
     "output_type": "stream",
     "text": [
      "1 0.007832936514650274\n",
      "2 1.1636965844975949e-06\n",
      "3 6.236063466076377e-10\n"
     ]
    },
    {
     "name": "stderr",
     "output_type": "stream",
     "text": [
      "/Users/mmccull/opt/anaconda3/lib/python3.8/site-packages/MDAnalysis/coordinates/PDB.py:1026: UserWarning: Found no information for attr: 'altLocs' Using default value of ' '\n",
      "  warnings.warn(\"Found no information for attr: '{}'\"\n",
      "/Users/mmccull/opt/anaconda3/lib/python3.8/site-packages/MDAnalysis/coordinates/PDB.py:1026: UserWarning: Found no information for attr: 'resnames' Using default value of 'UNK'\n",
      "  warnings.warn(\"Found no information for attr: '{}'\"\n",
      "/Users/mmccull/opt/anaconda3/lib/python3.8/site-packages/MDAnalysis/coordinates/PDB.py:1026: UserWarning: Found no information for attr: 'icodes' Using default value of ' '\n",
      "  warnings.warn(\"Found no information for attr: '{}'\"\n",
      "/Users/mmccull/opt/anaconda3/lib/python3.8/site-packages/MDAnalysis/coordinates/PDB.py:1026: UserWarning: Found no information for attr: 'occupancies' Using default value of '1.0'\n",
      "  warnings.warn(\"Found no information for attr: '{}'\"\n",
      "/Users/mmccull/opt/anaconda3/lib/python3.8/site-packages/MDAnalysis/coordinates/PDB.py:1026: UserWarning: Found no information for attr: 'tempfactors' Using default value of '0.0'\n",
      "  warnings.warn(\"Found no information for attr: '{}'\"\n"
     ]
    }
   ],
   "source": [
    "# intermediate align and print trajectory\n",
    "intermediateAlignedPos, intermediateAvg, intermediateVars = traj_tools.traj_iterative_average_vars_intermediate_kabsch(trajPositions)\n",
    "coord.atoms.positions = intermediateAvg\n",
    "coord.atoms.write(\"intermediate_avg.pdb\")\n",
    "with md.Writer(\"intermediate_aligned.dcd\", coord.atoms.n_atoms) as W:\n",
    "    for ts in coord.trajectory:\n",
    "        coord.atoms.positions = intermediateAlignedPos[ts.frame]\n",
    "        W.write(coord.atoms)"
   ]
  },
  {
   "cell_type": "code",
   "execution_count": 5,
   "metadata": {},
   "outputs": [
    {
     "name": "stderr",
     "output_type": "stream",
     "text": [
      "/Users/mmccull/Dropbox/research/2021/clustering/Trajectory-Alignment/benchmark/traj_tools.py:240: NumbaPerformanceWarning: \u001b[1m\u001b[1m\u001b[1mnp.dot() is faster on contiguous arrays, called on (array(float64, 2d, A), array(float64, 2d, C))\u001b[0m\u001b[0m\u001b[0m\n",
      "  alignedPos[ts] = weight_kabsch_rotate(alignedPos[ts], avg, kabschWeights)\n"
     ]
    },
    {
     "name": "stdout",
     "output_type": "stream",
     "text": [
      "1 0.0002617426982140824 212131.90152179165\n",
      "2 0.00016770301386598679 212627.58571389533\n",
      "3 0.00012877295205735844 213048.8262859903\n",
      "4 0.00010439860066064842 213429.03552389718\n",
      "5 8.689633196189854e-05 213776.6211579599\n",
      "6 7.358388492753197e-05 214095.74600677215\n",
      "7 6.310080621097549e-05 214389.3686685324\n",
      "8 5.465231361439725e-05 214659.90322744282\n",
      "9 4.7730135942960074e-05 214909.43019330647\n",
      "10 4.198675352474315e-05 215139.78745398764\n",
      "11 3.71728910094765e-05 215352.61963691044\n",
      "12 3.310353094534549e-05 215549.40964950662\n",
      "13 2.963787806434482e-05 215731.50110301192\n",
      "14 2.6666739297189224e-05 215900.1153897961\n",
      "15 2.4104155201755068e-05 216056.3653036565\n",
      "16 2.1881626911393206e-05 216201.26626735978\n",
      "17 1.994400931414914e-05 216335.74582181193\n",
      "18 1.824651741158485e-05 216460.65180532416\n",
      "19 1.6752500532308673e-05 216576.7595164149\n",
      "20 1.5431760263090996e-05 216684.77806752594\n",
      "21 1.4259261763269184e-05 216785.35607962165\n",
      "22 1.3214134936347809e-05 216879.08682803455\n",
      "23 1.2278892454987829e-05 216966.51292194775\n",
      "24 1.1438812168450361e-05 217048.1305799775\n",
      "25 1.0681445520801046e-05 217124.39354990638\n",
      "26 9.996223515296912e-06 217195.71671029303\n",
      "27 9.374138840158067e-06 217262.47938423473\n",
      "28 8.807487914953529e-06 217325.0283901476\n",
      "29 8.28966039761595e-06 217383.6808506031\n",
      "30 7.814966527838621e-06 217438.72677741753\n",
      "31 7.378494796032588e-06 217490.43144917928\n",
      "32 6.9759940566042e-06 217539.03759581636\n",
      "33 6.603775439174324e-06 217584.76740368345\n",
      "34 6.258630373387042e-06 217627.8243536608\n",
      "35 5.937761787987576e-06 217668.39490401154\n",
      "36 5.638726135461662e-06 217706.65002906206\n",
      "37 5.3593843410679665e-06 217742.74662414947\n",
      "38 5.097860152360706e-06 217776.8287867366\n",
      "39 4.852504648457382e-06 217809.02898306167\n",
      "40 4.6218658949256595e-06 217839.46910916618\n",
      "41 4.404662924100478e-06 217868.26145467738\n",
      "42 4.199763359402513e-06 217895.50957720453\n",
      "43 4.006164127835676e-06 217921.3090947753\n",
      "44 3.822974796795179e-06 217945.7484032578\n",
      "45 3.6494031519339002e-06 217968.9093252792\n",
      "46 3.4847426970463793e-06 217990.86769669713\n",
      "47 3.32836180198108e-06 218011.69389629713\n",
      "48 3.1796942766647275e-06 218031.45332393819\n",
      "49 3.0382311751474427e-06 218050.20683200122\n",
      "50 2.9035136663484232e-06 218068.0111146166\n",
      "51 2.77512683255466e-06 218084.91905876956\n",
      "52 2.652694272465312e-06 218100.980061065\n",
      "53 2.5358734066869963e-06 218116.24031358046\n",
      "54 2.4243513936845053e-06 218130.74306194615\n",
      "55 2.3178415792543253e-06 218144.52883850783\n",
      "56 2.2160804100984885e-06 218157.63567314047\n",
      "57 2.1188247516272123e-06 218170.0992840476\n",
      "58 2.025849558856778e-06 218181.95325064153\n",
      "59 1.9369458536321634e-06 218193.22917039483\n",
      "60 1.8519189686236604e-06 218203.9568013485\n",
      "61 1.7705870229985686e-06 218214.16419179103\n",
      "62 1.6927795991800245e-06 218223.87779845815\n",
      "63 1.6183365934524074e-06 218233.1225944571\n",
      "64 1.547107217460118e-06 218241.922167985\n",
      "65 1.4789491297540882e-06 218250.29881279415\n",
      "66 1.4137276800555558e-06 218258.27361124818\n",
      "67 1.351315249333059e-06 218265.86651072686\n",
      "68 1.2915906743750131e-06 218273.09639402432\n",
      "69 1.2344387436018021e-06 218279.9811443555\n",
      "70 1.1797497537410506e-06 218286.53770547666\n",
      "71 1.1274191201349253e-06 218292.7821373823\n",
      "72 1.0773470322909636e-06 218298.72966801052\n",
      "73 1.0294381474018435e-06 218304.39474128728\n",
      "74 9.836013181016299e-07 218309.79106186633\n",
      "75 9.397493483785693e-07 218314.93163684427\n",
      "76 8.977987736362212e-07 218319.82881469117\n",
      "77 8.576696621561286e-07 218324.49432165807\n",
      "78 8.192854347852724e-07 218328.9392958399\n",
      "79 7.825726995221413e-07 218333.174319098\n",
      "80 7.474611002520124e-07 218337.20944699307\n",
      "81 7.138831767075884e-07 218341.0542368958\n",
      "82 6.817742348570919e-07 218344.71777439525\n",
      "83 6.510722255966074e-07 218348.20869813842\n",
      "84 6.21717632146392e-07 218351.5352232018\n",
      "85 5.936533633352855e-07 218354.70516311476\n",
      "86 5.668246535058053e-07 218357.7259506034\n",
      "87 5.411789676866983e-07 218360.60465716492\n",
      "88 5.166659117251879e-07 218363.3480115283\n",
      "89 4.932371466478263e-07 218365.96241709037\n",
      "90 4.7084630727951553e-07 218368.45396838\n",
      "91 4.4944892420768206e-07 218370.8284666237\n",
      "92 4.2900234956620806e-07 218373.09143445303\n",
      "93 4.0946568534351187e-07 218375.24812982808\n",
      "94 3.907997153841622e-07 218377.3035591988\n",
      "95 3.729668393887021e-07 218379.2624899788\n",
      "96 3.5593100998579663e-07 218381.12946234143\n",
      "97 3.396576720909117e-07 218382.90880040603\n",
      "98 3.2411370436925326e-07 218384.60462283168\n",
      "99 3.0926736332231126e-07 218386.22085286572\n",
      "100 2.950882291410129e-07 218387.76122785872\n",
      "101 2.8154715361644064e-07 218389.22930830411\n",
      "102 2.686162101091987e-07 218390.62848640577\n",
      "103 2.5626864522237395e-07 218391.96199420758\n",
      "104 2.4447883242595945e-07 218393.23291131755\n",
      "105 2.3322222713812174e-07 218394.44417223474\n",
      "106 2.224753236964344e-07 218395.59857330943\n",
      "107 2.1221561379241422e-07 218396.6987793584\n",
      "108 2.024215465070372e-07 218397.74732994626\n",
      "109 1.9307248980055815e-07 218398.7466453559\n",
      "110 1.8414869330631437e-07 218399.6990322654\n",
      "111 1.7563125283877767e-07 218400.60668914288\n",
      "112 1.6750207587107526e-07 218401.47171137884\n",
      "113 1.5974384849702115e-07 218402.29609616584\n",
      "114 1.5234000364417984e-07 218403.08174714053\n",
      "115 1.452746903994401e-07 218403.8304788018\n",
      "116 1.3853274454915982e-07 218404.5440207126\n",
      "117 1.32099660263855e-07 218405.22402150056\n",
      "118 1.2596156290219872e-07 218405.87205266528\n",
      "119 1.2010518264475354e-07 218406.48961220265\n",
      "120 1.1451782948214329e-07 218407.07812805724\n",
      "121 1.0918736889188205e-07 218407.6389614069\n",
      "122 1.04102198607311e-07 218408.1734097908\n",
      "123 9.925122617232372e-08 218408.68271009522\n",
      "124 9.462384773365715e-08 218409.16804138597\n",
      "125 9.020992690191316e-08 218409.63052761875\n",
      "126 8.599977554359714e-08 218410.07124021364\n",
      "127 8.198413422711932e-08 218410.49120050727\n",
      "128 7.815415426463935e-08 218410.89138209773\n",
      "129 7.450138006603576e-08 218411.27271306963\n",
      "130 7.101773229337101e-08 218411.63607811963\n",
      "131 6.76954917738334e-08 218411.9823205818\n",
      "132 6.452728391363719e-08 218412.31224435626\n",
      "133 6.150606392716693e-08 218412.62661574953\n",
      "134 5.862510251235913e-08 218412.92616522755\n",
      "135 5.587797218591493e-08 218413.21158908558\n",
      "136 5.32585341900959e-08 218413.48355104605\n",
      "137 5.0760925891554964e-08 218413.7426837678\n",
      "138 4.837954881728114e-08 218413.98959030688\n",
      "139 4.610905694620126e-08 218414.2248454875\n",
      "140 4.394434579401028e-08 218414.4489972206\n",
      "141 4.1880541766926744e-08 218414.66256776103\n",
      "142 3.991299192220044e-08 218414.86605490098\n",
      "143 3.80372543755581e-08 218415.05993311384\n",
      "144 3.624908884981038e-08 218415.24465463732\n",
      "145 3.454444784423454e-08 218415.42065051626\n",
      "146 3.2919468043453805e-08 218415.58833158755\n",
      "147 3.137046213154239e-08 218415.7480894226\n",
      "148 2.989391097902349e-08 218415.90029722947\n",
      "149 2.84864561524968e-08 218416.04531070893\n",
      "150 2.7144892735422676e-08 218416.18346887088\n",
      "151 2.586616241167326e-08 218416.31509481417\n",
      "152 2.4647346994961164e-08 218416.44049646938\n",
      "153 2.348566204540955e-08 218416.55996730912\n",
      "154 2.237845093802211e-08 218416.67378702218\n",
      "155 2.1323179063123002e-08 218416.78222215825\n",
      "156 2.03174283434991e-08 218416.88552674121\n",
      "157 1.9358891973687603e-08 218416.9839428584\n",
      "158 1.844536938451551e-08 218417.07770121365\n",
      "159 1.7574761463422433e-08 218417.16702166374\n",
      "160 1.6745065932634295e-08 218417.2521137254\n",
      "161 1.5954372930588143e-08 218417.33317705907\n",
      "162 1.5200860896251676e-08 218417.41040192838\n",
      "163 1.4482792464432956e-08 218417.4839696448\n",
      "164 1.3798510671174714e-08 218417.554052984\n",
      "165 1.3146435301925214e-08 218417.62081658476\n",
      "166 1.2525059373121805e-08 218417.6844173334\n",
      "167 1.1932945774577879e-08 218417.745004726\n",
      "168 1.1368724088034002e-08 218417.80272121343\n",
      "169 1.0831087543599842e-08 218417.85770253622\n",
      "170 1.0318790080808651e-08 218417.91007803398\n",
      "171 9.830643580726168e-09 218417.9599709495\n"
     ]
    },
    {
     "name": "stderr",
     "output_type": "stream",
     "text": [
      "/Users/mmccull/opt/anaconda3/lib/python3.8/site-packages/MDAnalysis/coordinates/PDB.py:1026: UserWarning: Found no information for attr: 'altLocs' Using default value of ' '\n",
      "  warnings.warn(\"Found no information for attr: '{}'\"\n",
      "/Users/mmccull/opt/anaconda3/lib/python3.8/site-packages/MDAnalysis/coordinates/PDB.py:1026: UserWarning: Found no information for attr: 'resnames' Using default value of 'UNK'\n",
      "  warnings.warn(\"Found no information for attr: '{}'\"\n",
      "/Users/mmccull/opt/anaconda3/lib/python3.8/site-packages/MDAnalysis/coordinates/PDB.py:1026: UserWarning: Found no information for attr: 'icodes' Using default value of ' '\n",
      "  warnings.warn(\"Found no information for attr: '{}'\"\n",
      "/Users/mmccull/opt/anaconda3/lib/python3.8/site-packages/MDAnalysis/coordinates/PDB.py:1026: UserWarning: Found no information for attr: 'occupancies' Using default value of '1.0'\n",
      "  warnings.warn(\"Found no information for attr: '{}'\"\n",
      "/Users/mmccull/opt/anaconda3/lib/python3.8/site-packages/MDAnalysis/coordinates/PDB.py:1026: UserWarning: Found no information for attr: 'tempfactors' Using default value of '0.0'\n",
      "  warnings.warn(\"Found no information for attr: '{}'\"\n"
     ]
    }
   ],
   "source": [
    "# weighted align and print trajectory\n",
    "weightedAlignedPos, weightedAvg, weightedCovar = traj_tools.traj_iterative_average_covar_weighted_kabsch(trajPositions)\n",
    "coord.atoms.positions = weightedAvg\n",
    "coord.atoms.write(\"weighted_avg.pdb\")\n",
    "with md.Writer(\"weighted_aligned.dcd\", coord.atoms.n_atoms) as W:\n",
    "    for ts in coord.trajectory:\n",
    "        coord.atoms.positions = weightedAlignedPos[ts.frame]\n",
    "        W.write(coord.atoms)"
   ]
  },
  {
   "cell_type": "code",
   "execution_count": 5,
   "metadata": {},
   "outputs": [
    {
     "name": "stdout",
     "output_type": "stream",
     "text": [
      "[0.13071871 0.02665419 0.02829377 0.04482433 0.03981581 0.02393753\n",
      " 0.01917201 0.03220989 0.03968308 0.02861135 0.02015599 0.06483967]\n"
     ]
    }
   ],
   "source": [
    "print(intermediateVars)"
   ]
  },
  {
   "cell_type": "code",
   "execution_count": 8,
   "metadata": {},
   "outputs": [
    {
     "name": "stdout",
     "output_type": "stream",
     "text": [
      "[0.09372638 0.02747414 0.03556004 0.04866631 0.03979701 0.02392168\n",
      " 0.02466021 0.03477146 0.04275504 0.03318805 0.02122818 0.05827531]\n"
     ]
    }
   ],
   "source": [
    "uniformParticleVariances = traj_tools.particle_variances_from_trajectory(uniformAlignedPos, uniformAvg)\n",
    "print(uniformParticleVariances)"
   ]
  },
  {
   "cell_type": "code",
   "execution_count": 9,
   "metadata": {},
   "outputs": [
    {
     "name": "stdout",
     "output_type": "stream",
     "text": [
      "[-4.27624029e-14 -3.81011804e-14 -3.08224325e-14 -1.48093321e-14\n",
      "  1.02591832e-14  4.74804357e-14  8.24676849e+00  1.16414983e+01\n",
      "  1.36901611e+01  1.80046786e+01]\n"
     ]
    }
   ],
   "source": [
    "disp = (intermediateAlignedPos - intermediateAvg).reshape(coord.trajectory.n_frames,coord.atoms.n_atoms*3)\n",
    "intermediateCovar = np.dot(disp.T,disp)\n",
    "e,v = np.linalg.eigh(intermediateCovar)\n",
    "print(e[:10])"
   ]
  },
  {
   "cell_type": "code",
   "execution_count": null,
   "metadata": {},
   "outputs": [],
   "source": []
  }
 ],
 "metadata": {
  "kernelspec": {
   "display_name": "Python 3",
   "language": "python",
   "name": "python3"
  },
  "language_info": {
   "codemirror_mode": {
    "name": "ipython",
    "version": 3
   },
   "file_extension": ".py",
   "mimetype": "text/x-python",
   "name": "python",
   "nbconvert_exporter": "python",
   "pygments_lexer": "ipython3",
   "version": "3.8.3"
  }
 },
 "nbformat": 4,
 "nbformat_minor": 4
}
