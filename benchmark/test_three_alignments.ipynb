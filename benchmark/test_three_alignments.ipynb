{
 "cells": [
  {
   "cell_type": "code",
   "execution_count": 1,
   "metadata": {},
   "outputs": [],
   "source": [
    "import numpy as np\n",
    "import MDAnalysis as md\n",
    "import traj_tools"
   ]
  },
  {
   "cell_type": "code",
   "execution_count": 2,
   "metadata": {},
   "outputs": [
    {
     "name": "stdout",
     "output_type": "stream",
     "text": [
      "Number of atoms in molecule: 12\n",
      "Number of frames in trajectory: 5000\n"
     ]
    }
   ],
   "source": [
    "# load trajectory data\n",
    "topFile = \"beta_sheet.xyz\"\n",
    "trajFile = \"partially_unfolded_beta_sheet_v01.out.dcd\"\n",
    "coord = md.Universe(topFile,trajFile)\n",
    "print(\"Number of atoms in molecule:\", coord.atoms.n_atoms)\n",
    "print(\"Number of frames in trajectory:\", coord.trajectory.n_frames)"
   ]
  },
  {
   "cell_type": "code",
   "execution_count": 3,
   "metadata": {},
   "outputs": [],
   "source": [
    "# create array of trajectory position data and populate it\n",
    "trajPositions = np.empty((coord.trajectory.n_frames,coord.atoms.n_atoms,3),dtype=np.float64)\n",
    "for ts in coord.trajectory:\n",
    "    trajPositions[ts.frame] = coord.atoms.positions"
   ]
  },
  {
   "cell_type": "code",
   "execution_count": 6,
   "metadata": {},
   "outputs": [
    {
     "name": "stderr",
     "output_type": "stream",
     "text": [
      "/Users/mmccull/opt/anaconda3/lib/python3.8/site-packages/MDAnalysis/coordinates/PDB.py:1026: UserWarning: Found no information for attr: 'altLocs' Using default value of ' '\n",
      "  warnings.warn(\"Found no information for attr: '{}'\"\n",
      "/Users/mmccull/opt/anaconda3/lib/python3.8/site-packages/MDAnalysis/coordinates/PDB.py:1026: UserWarning: Found no information for attr: 'resnames' Using default value of 'UNK'\n",
      "  warnings.warn(\"Found no information for attr: '{}'\"\n",
      "/Users/mmccull/opt/anaconda3/lib/python3.8/site-packages/MDAnalysis/coordinates/PDB.py:1026: UserWarning: Found no information for attr: 'icodes' Using default value of ' '\n",
      "  warnings.warn(\"Found no information for attr: '{}'\"\n",
      "/Users/mmccull/opt/anaconda3/lib/python3.8/site-packages/MDAnalysis/coordinates/PDB.py:1026: UserWarning: Found no information for attr: 'occupancies' Using default value of '1.0'\n",
      "  warnings.warn(\"Found no information for attr: '{}'\"\n",
      "/Users/mmccull/opt/anaconda3/lib/python3.8/site-packages/MDAnalysis/coordinates/PDB.py:1026: UserWarning: Found no information for attr: 'tempfactors' Using default value of '0.0'\n",
      "  warnings.warn(\"Found no information for attr: '{}'\"\n"
     ]
    }
   ],
   "source": [
    "# uniform align and print trajectory\n",
    "uniformAvg, uniformAlignedPos = traj_tools.traj_iterative_average(trajPositions)\n",
    "coord.atoms.positions = uniformAvg\n",
    "coord.atoms.write(\"uniform_avg.pdb\")\n",
    "with md.Writer(\"uniform_aligned.dcd\", coord.atoms.n_atoms) as W:\n",
    "    for ts in coord.trajectory:\n",
    "        coord.atoms.positions = uniformAlignedPos[ts.frame]\n",
    "        W.write(coord.atoms)"
   ]
  },
  {
   "cell_type": "code",
   "execution_count": 6,
   "metadata": {},
   "outputs": [
    {
     "name": "stdout",
     "output_type": "stream",
     "text": [
      "1 0.007834447119296407 185448.70677236764\n",
      "2 1.169627924594639e-06 185468.49295560562\n",
      "3 6.363883590679524e-10 185468.49593767617\n",
      "4 9.048515824204507e-13 185468.49593932275\n"
     ]
    },
    {
     "name": "stderr",
     "output_type": "stream",
     "text": [
      "/Users/mmccull/opt/anaconda3/lib/python3.8/site-packages/MDAnalysis/coordinates/PDB.py:1026: UserWarning: Found no information for attr: 'altLocs' Using default value of ' '\n",
      "  warnings.warn(\"Found no information for attr: '{}'\"\n",
      "/Users/mmccull/opt/anaconda3/lib/python3.8/site-packages/MDAnalysis/coordinates/PDB.py:1026: UserWarning: Found no information for attr: 'resnames' Using default value of 'UNK'\n",
      "  warnings.warn(\"Found no information for attr: '{}'\"\n",
      "/Users/mmccull/opt/anaconda3/lib/python3.8/site-packages/MDAnalysis/coordinates/PDB.py:1026: UserWarning: Found no information for attr: 'icodes' Using default value of ' '\n",
      "  warnings.warn(\"Found no information for attr: '{}'\"\n",
      "/Users/mmccull/opt/anaconda3/lib/python3.8/site-packages/MDAnalysis/coordinates/PDB.py:1026: UserWarning: Found no information for attr: 'occupancies' Using default value of '1.0'\n",
      "  warnings.warn(\"Found no information for attr: '{}'\"\n",
      "/Users/mmccull/opt/anaconda3/lib/python3.8/site-packages/MDAnalysis/coordinates/PDB.py:1026: UserWarning: Found no information for attr: 'tempfactors' Using default value of '0.0'\n",
      "  warnings.warn(\"Found no information for attr: '{}'\"\n"
     ]
    }
   ],
   "source": [
    "# intermediate align and print trajectory\n",
    "intermediateAlignedPos, intermediateAvg, intermediateVars = traj_tools.traj_iterative_average_vars_intermediate_kabsch(trajPositions)\n",
    "coord.atoms.positions = intermediateAvg\n",
    "coord.atoms.write(\"intermediate_avg.pdb\")\n",
    "with md.Writer(\"intermediate_aligned.dcd\", coord.atoms.n_atoms) as W:\n",
    "    for ts in coord.trajectory:\n",
    "        coord.atoms.positions = intermediateAlignedPos[ts.frame]\n",
    "        W.write(coord.atoms)"
   ]
  },
  {
   "cell_type": "code",
   "execution_count": 4,
   "metadata": {},
   "outputs": [
    {
     "name": "stdout",
     "output_type": "stream",
     "text": [
      "1 212132.52030281432\n",
      "2 212628.06624592107\n",
      "3 213049.25052366583\n",
      "4 213429.4284450527\n",
      "5 213776.99070787145\n",
      "6 214096.0950692214\n",
      "7 214389.69857427455\n",
      "8 214660.21486084705\n",
      "9 214909.72434514362\n",
      "10 215140.0649219426\n",
      "11 215352.88124140014\n",
      "12 215549.6562236513\n",
      "13 215731.73347748996\n",
      "14 215900.33437943517\n",
      "15 216056.57169745176\n",
      "16 216201.4608218401\n",
      "17 216335.92925710365\n",
      "18 216460.82480324653\n",
      "19 216576.92271999392\n",
      "20 216684.9320814715\n",
      "21 216785.50147143277\n",
      "22 216879.22412948537\n",
      "23 216966.64263079435\n",
      "24 217048.25316176127\n",
      "25 217124.50943978794\n",
      "26 217195.8263148763\n",
      "27 217262.58308333223\n",
      "28 217325.12653848884\n",
      "29 217383.77377945912\n",
      "30 217438.81479615188\n",
      "31 217490.51484671474\n",
      "32 217539.11664201767\n",
      "33 217584.84235066234\n",
      "34 217627.89543700372\n",
      "35 217668.46234392936\n",
      "36 217706.71403147152\n",
      "37 217742.8073816786\n",
      "38 217776.8864796699\n",
      "39 217809.08378021815\n",
      "40 217839.5211687195\n",
      "41 217868.31092491414\n",
      "42 217895.55659723026\n",
      "43 217921.35379517276\n",
      "44 217945.79090669198\n",
      "45 217968.9497470517\n",
      "46 217990.90614527173\n",
      "47 218011.7304737732\n",
      "48 218031.48812649163\n",
      "49 218050.23995029234\n",
      "50 218068.0426341605\n",
      "51 218084.94906028587\n",
      "52 218101.00862079076\n",
      "53 218116.26750356454\n",
      "54 218130.76895031868\n",
      "55 218144.5534897291\n",
      "56 218157.65914823097\n",
      "57 218170.12164079666\n",
      "58 218181.97454380698\n",
      "59 218193.24945188442\n",
      "60 218203.97612038438\n",
      "61 218214.1825950705\n",
      "62 218223.89533029567\n",
      "63 218233.139296919\n",
      "64 218241.93808101723\n",
      "65 218250.3139743372\n",
      "66 218258.28805735108\n",
      "67 218265.88027564192\n",
      "68 218273.10951031052\n",
      "69 218279.99364296655\n",
      "70 218286.5496158421\n",
      "71 218292.79348749283\n",
      "72 218298.74048448767\n",
      "73 218304.40504945593\n",
      "74 218309.80088582356\n",
      "75 218314.94099951678\n",
      "76 218319.837737899\n",
      "77 218324.5028261678\n",
      "78 218328.94740141986\n",
      "79 218333.1820445645\n",
      "80 218337.21681026235\n",
      "81 218341.06125502623\n",
      "82 218344.72446362983\n",
      "83 218348.2150739439\n",
      "84 218351.54130030918\n",
      "85 218354.71095555424\n",
      "86 218357.7314717397\n",
      "87 218360.60991972632\n",
      "88 218363.35302764236\n",
      "89 218365.96719830975\n",
      "90 218368.45852571208\n",
      "91 218370.83281055384\n",
      "92 218373.09557497437\n",
      "93 218375.25207646113\n",
      "94 218377.30732101778\n",
      "95 218379.26607562948\n",
      "96 218381.1328800638\n",
      "97 218382.9120580525\n",
      "98 218384.60772788856\n",
      "99 218386.22381246486\n",
      "100 218387.7640488008\n",
      "101 218389.23199706938\n",
      "102 218390.63104917124\n",
      "103 218391.9644368625\n",
      "104 218393.23523947442\n",
      "105 218394.44639124378\n",
      "106 218395.60068827277\n",
      "107 218396.70079513825\n",
      "108 218397.74925117745\n",
      "109 218398.74847645825\n",
      "110 218399.70077745122\n",
      "111 218400.60835242918\n",
      "112 218401.47329659373\n",
      "113 218402.29760696014\n",
      "114 218403.0831869945\n",
      "115 218403.83185103288\n",
      "116 218404.545328485\n",
      "117 218405.22526782955\n",
      "118 218405.8732404261\n",
      "119 218406.4907441359\n",
      "120 218407.07920677695\n",
      "121 218407.63998940238\n",
      "122 218408.17438943934\n",
      "123 218408.68364366028\n",
      "124 218409.16893102718\n",
      "125 218409.63137539418\n",
      "126 218410.0720480842\n",
      "127 218410.4919703451\n",
      "128 218410.89211568562\n",
      "129 218411.27341210627\n",
      "130 218411.63674422784\n",
      "131 218411.9829553054\n",
      "132 218412.31284916837\n",
      "133 218412.62719205453\n",
      "134 218412.92671436362\n",
      "135 218413.21211232865\n",
      "136 218413.48404961094\n",
      "137 218413.74315881656\n",
      "138 218413.99004294322\n",
      "139 218414.22527676512\n",
      "140 218414.44940814405\n",
      "141 218414.66295928683\n",
      "142 218414.8664279426\n",
      "143 218415.06028853916\n",
      "144 218415.2449932777\n",
      "145 218415.4209731604\n",
      "146 218415.58863898716\n",
      "147 218415.74838229764\n",
      "148 218415.90057626343\n",
      "149 218416.0455765545\n",
      "150 218416.1837221485\n",
      "151 218416.315336116\n",
      "152 218416.4407263608\n",
      "153 218416.5601863279\n",
      "154 218416.6739956807\n",
      "155 218416.78242094553\n",
      "156 218416.885716123\n",
      "157 218416.98412327748\n",
      "158 218417.07787309453\n",
      "159 218417.16718540824\n",
      "160 218417.25226971827\n",
      "161 218417.33332566492\n",
      "162 218417.41054349777\n",
      "163 218417.4841045102\n",
      "164 218417.55418146163\n",
      "165 218417.62093897554\n",
      "166 218417.68453392602\n",
      "167 218417.7451157943\n",
      "168 218417.80282701933\n",
      "169 218417.85780332773\n",
      "170 218417.9101740484\n",
      "171 218417.96006241255\n",
      "172 218418.00758584123\n",
      "173 218418.0528562156\n",
      "174 218418.0959801416\n",
      "175 218418.1370591934\n",
      "176 218418.17619015125\n",
      "177 218418.2134652284\n",
      "178 218418.24897228446\n",
      "179 218418.28279503013\n",
      "180 218418.31501322234\n",
      "181 218418.345702852\n",
      "182 218418.3749363178\n",
      "183 218418.40278259924\n",
      "184 218418.42930741707\n",
      "185 218418.45457338193\n",
      "186 218418.47864014818\n",
      "187 218418.50156454634\n",
      "188 218418.52340072248\n",
      "189 218418.54420025984\n",
      "190 218418.56401230185\n",
      "191 218418.5828836675\n",
      "192 218418.60085896048\n",
      "193 218418.61798067275\n",
      "194 218418.63428928598\n",
      "195 218418.64982336503\n",
      "196 218418.6646196489\n",
      "197 218418.6787131377\n",
      "198 218418.69213717344\n",
      "199 218418.70492351893\n",
      "200 218418.7171024335\n",
      "201 218418.72870274185\n",
      "202 218418.73975190273\n",
      "203 218418.75027607605\n",
      "204 218418.76030017924\n",
      "205 218418.76984795043\n",
      "206 218418.7789420021\n",
      "207 218418.78760387446\n",
      "208 218418.7958540868\n",
      "209 218418.80371218635\n",
      "210 218418.81119679322\n",
      "211 218418.81832564168\n",
      "212 218418.8251156299\n",
      "213 218418.83158284938\n",
      "214 218418.83774263182\n",
      "215 218418.8436095813\n",
      "216 218418.84919760705\n",
      "217 218418.8545199597\n",
      "218 218418.8595892602\n",
      "219 218418.86441753284\n",
      "220 218418.8690162286\n",
      "221 218418.87339625615\n",
      "222 218418.8775680062\n",
      "223 218418.8815413763\n",
      "224 218418.8853257931\n",
      "225 218418.88893023785\n",
      "226 218418.8923632637\n",
      "227 218418.89563301735\n",
      "228 218418.89874726022\n",
      "229 218418.90171338353\n",
      "230 218418.90453842888\n",
      "231 218418.90722910222\n",
      "232 218418.90979179187\n",
      "233 218418.91223258237\n",
      "234 218418.91455726858\n",
      "235 218418.91677137068\n",
      "236 218418.91888014722\n",
      "237 218418.92088860617\n",
      "238 218418.9228015165\n",
      "239 218418.9246234228\n",
      "240 218418.92635865207\n",
      "241 218418.92801132658\n",
      "242 218418.92958537233\n",
      "243 218418.9310845277\n",
      "244 218418.9325123559\n",
      "245 218418.9338722472\n",
      "246 218418.93516743445\n",
      "247 218418.93640099542\n",
      "248 218418.93757586012\n",
      "249 218418.93869482158\n",
      "250 218418.93976053706\n",
      "251 218418.94077554246\n",
      "252 218418.94174224668\n"
     ]
    },
    {
     "name": "stderr",
     "output_type": "stream",
     "text": [
      "/Users/mmccull/opt/anaconda3/lib/python3.8/site-packages/MDAnalysis/coordinates/PDB.py:1026: UserWarning: Found no information for attr: 'altLocs' Using default value of ' '\n",
      "  warnings.warn(\"Found no information for attr: '{}'\"\n",
      "/Users/mmccull/opt/anaconda3/lib/python3.8/site-packages/MDAnalysis/coordinates/PDB.py:1026: UserWarning: Found no information for attr: 'resnames' Using default value of 'UNK'\n",
      "  warnings.warn(\"Found no information for attr: '{}'\"\n",
      "/Users/mmccull/opt/anaconda3/lib/python3.8/site-packages/MDAnalysis/coordinates/PDB.py:1026: UserWarning: Found no information for attr: 'icodes' Using default value of ' '\n",
      "  warnings.warn(\"Found no information for attr: '{}'\"\n",
      "/Users/mmccull/opt/anaconda3/lib/python3.8/site-packages/MDAnalysis/coordinates/PDB.py:1026: UserWarning: Found no information for attr: 'occupancies' Using default value of '1.0'\n",
      "  warnings.warn(\"Found no information for attr: '{}'\"\n",
      "/Users/mmccull/opt/anaconda3/lib/python3.8/site-packages/MDAnalysis/coordinates/PDB.py:1026: UserWarning: Found no information for attr: 'tempfactors' Using default value of '0.0'\n",
      "  warnings.warn(\"Found no information for attr: '{}'\"\n"
     ]
    }
   ],
   "source": [
    "# weighted align and print trajectory\n",
    "weightedAlignedPos, weightedAvg, weightedCovar = traj_tools.traj_iterative_average_covar_weighted_kabsch(trajPositions)\n",
    "coord.atoms.positions = weightedAvg\n",
    "coord.atoms.write(\"weighted_avg.pdb\")\n",
    "with md.Writer(\"weighted_aligned.dcd\", coord.atoms.n_atoms) as W:\n",
    "    for ts in coord.trajectory:\n",
    "        coord.atoms.positions = weightedAlignedPos[ts.frame]\n",
    "        W.write(coord.atoms)"
   ]
  },
  {
   "cell_type": "code",
   "execution_count": 7,
   "metadata": {},
   "outputs": [
    {
     "name": "stdout",
     "output_type": "stream",
     "text": [
      "[0.13071997 0.0266542  0.02829357 0.044825   0.03981768 0.02394014\n",
      " 0.01917129 0.03220706 0.03968475 0.02861755 0.02015272 0.06483181]\n"
     ]
    }
   ],
   "source": [
    "print(intermediateVars)"
   ]
  },
  {
   "cell_type": "code",
   "execution_count": 8,
   "metadata": {},
   "outputs": [
    {
     "name": "stdout",
     "output_type": "stream",
     "text": [
      "[0.09372638 0.02747414 0.03556004 0.04866631 0.03979701 0.02392168\n",
      " 0.02466021 0.03477146 0.04275504 0.03318805 0.02122818 0.05827531]\n"
     ]
    }
   ],
   "source": [
    "uniformParticleVariances = traj_tools.particle_variances_from_trajectory(uniformAlignedPos, uniformAvg)\n",
    "print(uniformParticleVariances)"
   ]
  },
  {
   "cell_type": "code",
   "execution_count": 9,
   "metadata": {},
   "outputs": [
    {
     "name": "stdout",
     "output_type": "stream",
     "text": [
      "[-4.27624029e-14 -3.81011804e-14 -3.08224325e-14 -1.48093321e-14\n",
      "  1.02591832e-14  4.74804357e-14  8.24676849e+00  1.16414983e+01\n",
      "  1.36901611e+01  1.80046786e+01]\n"
     ]
    }
   ],
   "source": [
    "disp = (intermediateAlignedPos - intermediateAvg).reshape(coord.trajectory.n_frames,coord.atoms.n_atoms*3)\n",
    "intermediateCovar = np.dot(disp.T,disp)\n",
    "e,v = np.linalg.eigh(intermediateCovar)\n",
    "print(e[:10])"
   ]
  },
  {
   "cell_type": "code",
   "execution_count": 8,
   "metadata": {},
   "outputs": [
    {
     "name": "stdout",
     "output_type": "stream",
     "text": [
      "[0.30569608 0.10475106 0.03196878 0.02629975 0.03663079 0.03436645\n",
      " 0.02896695 0.02670701 0.02750745 0.02588457 0.0298725  0.05530414]\n"
     ]
    }
   ],
   "source": [
    "weightedParticleVariances = traj_tools.particle_variances_from_trajectory(weightedAlignedPos, weightedAvg)\n",
    "print(weightedParticleVariances)"
   ]
  },
  {
   "cell_type": "code",
   "execution_count": null,
   "metadata": {},
   "outputs": [],
   "source": []
  }
 ],
 "metadata": {
  "kernelspec": {
   "display_name": "Python 3",
   "language": "python",
   "name": "python3"
  },
  "language_info": {
   "codemirror_mode": {
    "name": "ipython",
    "version": 3
   },
   "file_extension": ".py",
   "mimetype": "text/x-python",
   "name": "python",
   "nbconvert_exporter": "python",
   "pygments_lexer": "ipython3",
   "version": "3.8.3"
  }
 },
 "nbformat": 4,
 "nbformat_minor": 4
}
